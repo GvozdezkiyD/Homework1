{
  "cells": [
    {
      "cell_type": "markdown",
      "source": [
        "## Задача 1. Сопоставление статистик и условий их применения\n",
        "\n",
        "**Таблица сопоставлений:**\n",
        "\n",
        "| Статистика | Условие                                   |\n",
        "|------------|-------------------------------------------|\n",
        "| 1. z-тест  | E) проверка среднего выборки на конкретное значение при известной дисперсии |\n",
        "| 2. t-тест  | B) проверка среднего выборки на конкретное значение при неизвестной дисперсии |\n",
        "| 3. F-тест  | F) сравнение дисперсий двух выборок       |\n",
        "| 4. χ²-тест | G) наличие или отсутствие связи между параметрами |\n",
        "| 5. ANOVA   | A) анализ различий между многими выборками |\n",
        "\n",
        "**Обоснование:**  \n",
        "Каждая статистика имеет четко определенную область применения:\n",
        "- **z-тест:** Используется для проверки гипотез, когда известна дисперсия выборки.  \n",
        "- **t-тест:** Применяется при неизвестной дисперсии для проверки среднего.  \n",
        "- **F-тест:** Используется для сравнения дисперсий двух выборок.  \n",
        "- **χ²-тест:** Проверяет гипотезы о связях между переменными или распределениях.  \n",
        "- **ANOVA:** Применяется для анализа различий между несколькими группами.\n"
      ],
      "metadata": {
        "id": "r_gFwoaYdIBv"
      },
      "id": "r_gFwoaYdIBv"
    },
    {
      "cell_type": "markdown",
      "id": "e8eecee9-8ad7-4f85-9dfa-a58fa415b076",
      "metadata": {
        "id": "e8eecee9-8ad7-4f85-9dfa-a58fa415b076"
      },
      "source": [
        "## Задача 2. Проверка среднего веса порошка\n",
        "\n",
        "**Условие:**  \n",
        "Проверить, настроен ли дозатор порошка на правильную дозировку (3 кг).  \n",
        "Используется z-тест, так как известна дисперсия.\n",
        "\n",
        "**Гипотезы:**  \n",
        "- H₀: μ = 3 (дозатор настроен правильно)  \n",
        "- H₁: μ ≠ 3 (дозатор настроен неправильно)\n",
        "\n",
        "**Данные:**  \n",
        "- Средний вес (X̄) = 3,005 кг  \n",
        "- Ожидаемый вес (μ) = 3 кг  \n",
        "- Стандартное отклонение (σ) = 0,015 кг  \n",
        "- Размер выборки (n) = 50  \n",
        "- Уровень значимости (α) = 0,05  \n",
        "\n",
        "**Метод:**  \n",
        "Используем формулу для z-статистики:\n",
        "\\[\n",
        "z = \\frac{\\bar{X} - \\mu}{\\frac{\\sigma}{\\sqrt{n}}}\n",
        "\\]\n",
        "\n",
        "**Критерий:**  \n",
        "- Если |z| > z-критическое или p-value < α, отвергаем H₀.\n"
      ]
    },
    {
      "cell_type": "code",
      "execution_count": null,
      "id": "6104ff71-0cfc-4d8b-9b7e-c1e3641b3c87",
      "metadata": {
        "colab": {
          "base_uri": "https://localhost:8080/"
        },
        "id": "6104ff71-0cfc-4d8b-9b7e-c1e3641b3c87",
        "outputId": "2594186f-5a05-45e4-b33b-0978c90f6f47"
      },
      "outputs": [
        {
          "output_type": "stream",
          "name": "stdout",
          "text": [
            "Z-статистика: 2.3570\n",
            "Критическое значение Z: 1.9600\n",
            "P-value: 0.0184\n",
            "Нулевая гипотеза отвергнута: дозатор требует настройки.\n"
          ]
        }
      ],
      "source": [
        "from scipy.stats import norm\n",
        "\n",
        "# Данные задачи\n",
        "mu = 3.00  # теоретическое среднее\n",
        "x_bar = 3.005  # среднее выборки\n",
        "sigma = 0.015  # стандартное отклонение\n",
        "n = 50  # размер выборки\n",
        "alpha = 0.05  # уровень значимости\n",
        "\n",
        "# Расчет z-статистики\n",
        "z = (x_bar - mu) / (sigma / n**0.5)\n",
        "\n",
        "# Критическое значение z\n",
        "z_crit = norm.ppf(1 - alpha / 2)\n",
        "\n",
        "# p-value\n",
        "p_value = 2 * (1 - norm.cdf(abs(z)))\n",
        "\n",
        "# Вывод результатов\n",
        "print(f\"Z-статистика: {z:.4f}\")\n",
        "print(f\"Критическое значение Z: {z_crit:.4f}\")\n",
        "print(f\"P-value: {p_value:.4f}\")\n",
        "\n",
        "# Статистический вывод\n",
        "if abs(z) > z_crit or p_value < alpha:\n",
        "    print(\"Нулевая гипотеза отвергнута: дозатор требует настройки.\")\n",
        "else:\n",
        "    print(\"Нулевая гипотеза не отвергнута: дозатор настроен правильно.\")\n"
      ]
    },
    {
      "cell_type": "markdown",
      "source": [
        "**Результаты расчета:**  \n",
        "- Z-статистика: 2.3570  \n",
        "- Критическое значение Z: 1.9600  \n",
        "- P-value: 0.0184  \n",
        "\n",
        "**Вывод:**  \n",
        "- Так как |Z| > Z-критическое (2.357 > 1.960) и P-value < 0.05 (0.0184 < 0.05), нулевая гипотеза (H₀) отвергается.  \n",
        "- Это означает, что дозатор требует настройки, так как средний вес порошка статистически значимо отличается от 3 кг.\n"
      ],
      "metadata": {
        "id": "gTLLGY6wdshp"
      },
      "id": "gTLLGY6wdshp"
    },
    {
      "cell_type": "markdown",
      "id": "17ad34a0-cbb3-482a-99d4-253f0b70f05f",
      "metadata": {
        "id": "17ad34a0-cbb3-482a-99d4-253f0b70f05f"
      },
      "source": [
        "## Задача 3. Проверка различий в прочности материалов\n",
        "\n",
        "**Условие:**  \n",
        "Проверить, есть ли разница между средними прочностными характеристиками двух материалов.\n",
        "\n",
        "**Гипотезы:**  \n",
        "- H₀: μ₁ = μ₂ (нет разницы в прочности материалов)  \n",
        "- H₁: μ₁ ≠ μ₂ (есть разница в прочности материалов)\n",
        "\n",
        "**Данные:**  \n",
        "- Материал 1: n₁ = 15, X̄₁ = 90, σ₁ = 2.3  \n",
        "- Материал 2: n₂ = 10, X̄₂ = 88, σ₂ = 2.2  \n",
        "- Уровень значимости: α = 0.05  \n",
        "\n",
        "**Метод:**  \n",
        "Так как выборки небольшие и их дисперсии предположительно равны, используем двухвыборочный t-тест для независимых выборок.\n",
        "\n",
        "Формула для t-статистики:\n",
        "\\[\n",
        "t = \\frac{\\bar{X}_1 - \\bar{X}_2}{S_p \\cdot \\sqrt{\\frac{1}{n_1} + \\frac{1}{n_2}}}\n",
        "\\]\n",
        "где:\n",
        "\\[\n",
        "S_p = \\sqrt{\\frac{(n_1 - 1) \\cdot s_1^2 + (n_2 - 1) \\cdot s_2^2}{n_1 + n_2 - 2}}\n",
        "\\]\n",
        "\n",
        "**Критерий:**  \n",
        "- Если |t| > t-критическое или p-value < α, отвергаем H₀.\n"
      ]
    },
    {
      "cell_type": "code",
      "execution_count": null,
      "id": "81d6e912-5bf8-4b72-b33f-097e6037d7d4",
      "metadata": {
        "colab": {
          "base_uri": "https://localhost:8080/"
        },
        "id": "81d6e912-5bf8-4b72-b33f-097e6037d7d4",
        "outputId": "702b8926-205e-4112-ebc3-ad86ce027830"
      },
      "outputs": [
        {
          "output_type": "stream",
          "name": "stdout",
          "text": [
            "t-статистика: 2.1664\n",
            "Критическое значение t: 2.0687\n",
            "P-value: 0.0409\n",
            "Нулевая гипотеза отвергнута: есть разница между прочностями материалов.\n"
          ]
        }
      ],
      "source": [
        "from scipy.stats import t\n",
        "\n",
        "# Данные\n",
        "n1, x1_bar, s1 = 15, 90, 2.3\n",
        "n2, x2_bar, s2 = 10, 88, 2.2\n",
        "alpha = 0.05\n",
        "\n",
        "# Расчет объединенной выборочной дисперсии (S_p)\n",
        "sp = (((n1 - 1) * s1**2 + (n2 - 1) * s2**2) / (n1 + n2 - 2))**0.5\n",
        "\n",
        "# Расчет t-статистики\n",
        "t_stat = (x1_bar - x2_bar) / (sp * (1/n1 + 1/n2)**0.5)\n",
        "\n",
        "# Критическое значение и p-value\n",
        "t_crit = t.ppf(1 - alpha / 2, df=n1 + n2 - 2)\n",
        "p_value = 2 * (1 - t.cdf(abs(t_stat), df=n1 + n2 - 2))\n",
        "\n",
        "# Вывод результатов\n",
        "print(f\"t-статистика: {t_stat:.4f}\")\n",
        "print(f\"Критическое значение t: {t_crit:.4f}\")\n",
        "print(f\"P-value: {p_value:.4f}\")\n",
        "\n",
        "# Статистический вывод\n",
        "if abs(t_stat) > t_crit or p_value < alpha:\n",
        "    print(\"Нулевая гипотеза отвергнута: есть разница между прочностями материалов.\")\n",
        "else:\n",
        "    print(\"Нулевая гипотеза не отвергнута: разницы между прочностями материалов нет.\")\n"
      ]
    },
    {
      "cell_type": "markdown",
      "source": [
        "**Результаты расчета:**  \n",
        "- t-статистика: 2.1664  \n",
        "- Критическое значение t: 2.0687  \n",
        "- P-value: 0.0409  \n",
        "\n",
        "**Вывод:**  \n",
        "- Так как |t| > t-критическое (2.1664 > 2.0687) и P-value < 0.05 (0.0409 < 0.05), нулевая гипотеза H₀ отвергается.  \n",
        "- Это означает, что между прочностными характеристиками двух материалов есть статистически значимые различия.  \n",
        "- Производитель может учитывать это различие при выборе материала.\n"
      ],
      "metadata": {
        "id": "IgAp6I3heO9m"
      },
      "id": "IgAp6I3heO9m"
    },
    {
      "cell_type": "markdown",
      "id": "ad515879-cb2d-43eb-93ee-d3f6bb4b49d4",
      "metadata": {
        "id": "ad515879-cb2d-43eb-93ee-d3f6bb4b49d4"
      },
      "source": [
        "## Задача 4. Проверка среднего тока в двух конструкциях схем\n",
        "\n",
        "**Условие:**  \n",
        "Проверить, есть ли разница между средним током старой и новой конструкций схем.\n",
        "\n",
        "**Гипотезы:**  \n",
        "- H₀: μ₁ = μ₂ (нет разницы в среднем токе двух схем)  \n",
        "- H₁: μ₁ ≠ μ₂ (есть разница в среднем токе двух схем)\n",
        "\n",
        "**Данные:**  \n",
        "- Размер выборки (n): 10 тестов для старой схемы и 12 для новой схемы.  \n",
        "- Уровень значимости: α = 0.05.  \n",
        "- Дисперсии выборок предполагаются равными.  \n",
        "\n",
        "**Метод:**  \n",
        "Так как дисперсии равны, применяем двухвыборочный t-тест для независимых выборок.  \n",
        "Формула t-статистики:  \n",
        "\\[\n",
        "t = \\frac{\\bar{X}_1 - \\bar{X}_2}{S_p \\cdot \\sqrt{\\frac{1}{n_1} + \\frac{1}{n_2}}}\n",
        "\\]\n",
        "где \\( S_p \\) — объединенная выборочная дисперсия:\n",
        "\\[\n",
        "S_p = \\sqrt{\\frac{(n_1 - 1) \\cdot s_1^2 + (n_2 - 1) \\cdot s_2^2}{n_1 + n_2 - 2}}\n",
        "\\]\n",
        "\n",
        "**Критерий:**  \n",
        "- Если |t| > t-критическое или p-value < α, отвергаем H₀.\n"
      ]
    },
    {
      "cell_type": "code",
      "execution_count": null,
      "id": "f0720b4c-0ce0-43e6-be7a-bdb9d593eefd",
      "metadata": {
        "colab": {
          "base_uri": "https://localhost:8080/"
        },
        "id": "f0720b4c-0ce0-43e6-be7a-bdb9d593eefd",
        "outputId": "119dcd34-df2c-4a74-bb4e-0abe8aa3126f"
      },
      "outputs": [
        {
          "output_type": "stream",
          "name": "stdout",
          "text": [
            "t-статистика: -1.8657\n",
            "Критическое значение t: 2.0860\n",
            "P-value: 0.0768\n",
            "Нулевая гипотеза не отвергнута: разницы между средним током двух схем нет.\n"
          ]
        }
      ],
      "source": [
        "import numpy as np\n",
        "from scipy.stats import t\n",
        "\n",
        "# Данные\n",
        "old_scheme = [80.1, 82.3, 84.1, 82.6, 85.3, 81.3, 83.2, 81.7, 82.2, 81.4]\n",
        "new_scheme = [80.7, 81.3, 84.6, 81.7, 86.3, 84.3, 83.7, 84.7, 82.8, 84.4, 85.2, 84.9]\n",
        "alpha = 0.05\n",
        "\n",
        "# Вычисление средних, стандартных отклонений и размеров выборок\n",
        "x1_bar, s1, n1 = np.mean(old_scheme), np.std(old_scheme, ddof=1), len(old_scheme)\n",
        "x2_bar, s2, n2 = np.mean(new_scheme), np.std(new_scheme, ddof=1), len(new_scheme)\n",
        "\n",
        "# Расчет объединенной выборочной дисперсии\n",
        "sp = np.sqrt(((n1 - 1) * s1**2 + (n2 - 1) * s2**2) / (n1 + n2 - 2))\n",
        "\n",
        "# Расчет t-статистики\n",
        "t_stat = (x1_bar - x2_bar) / (sp * np.sqrt(1/n1 + 1/n2))\n",
        "\n",
        "# Критическое значение и p-value\n",
        "t_crit = t.ppf(1 - alpha / 2, df=n1 + n2 - 2)\n",
        "p_value = 2 * (1 - t.cdf(abs(t_stat), df=n1 + n2 - 2))\n",
        "\n",
        "# Вывод результатов\n",
        "print(f\"t-статистика: {t_stat:.4f}\")\n",
        "print(f\"Критическое значение t: {t_crit:.4f}\")\n",
        "print(f\"P-value: {p_value:.4f}\")\n",
        "\n",
        "# Статистический вывод\n",
        "if abs(t_stat) > t_crit or p_value < alpha:\n",
        "    print(\"Нулевая гипотеза отвергнута: есть разница между средним током двух схем.\")\n",
        "else:\n",
        "    print(\"Нулевая гипотеза не отвергнута: разницы между средним током двух схем нет.\")\n"
      ]
    },
    {
      "cell_type": "markdown",
      "source": [
        "**Результаты расчета:**  \n",
        "- t-статистика: -1.8657  \n",
        "- Критическое значение t: 2.0860  \n",
        "- P-value: 0.0768  \n",
        "\n",
        "**Вывод:**  \n",
        "- Так как |t| ≤ t-критическое (-1.8657 ≤ 2.0860) и P-value > 0.05 (0.0768 > 0.05), нулевая гипотеза H₀ не отвергается.  \n",
        "- Это означает, что статистически значимой разницы между средним током старой и новой конструкций схем нет.  \n",
        "- На основании теста производитель может оставить текущую конструкцию схемы, так как нет доказательств необходимости замены.\n"
      ],
      "metadata": {
        "id": "aCbwCkLlezLs"
      },
      "id": "aCbwCkLlezLs"
    },
    {
      "cell_type": "markdown",
      "id": "46f3a4d3-149d-45c3-bdae-df806e07bae1",
      "metadata": {
        "id": "46f3a4d3-149d-45c3-bdae-df806e07bae1"
      },
      "source": [
        "## Задача 5. Проверка эффективности препарата на снижение уровня глюкозы\n",
        "\n",
        "**Условие:**  \n",
        "Определить, оказывает ли препарат влияние на уровень глюкозы в крови пациентов.\n",
        "\n",
        "**Гипотезы:**  \n",
        "- H₀: μ_diff = 0 (разницы в уровнях глюкозы до и после препарата нет)  \n",
        "- H₁: μ_diff ≠ 0 (есть разница в уровнях глюкозы до и после препарата)\n",
        "\n",
        "**Данные:**  \n",
        "- Уровень значимости: α = 0.05  \n",
        "- Измерения: пара связанные выборки (до и после препарата).\n",
        "\n",
        "**Метод:**  \n",
        "Так как выборки связаны, используем парный t-тест.  \n",
        "Формула для t-статистики:  \n",
        "\\[\n",
        "t = \\frac{\\bar{d}}{s_d / \\sqrt{n}}\n",
        "\\]\n",
        "где:  \n",
        "- \\( \\bar{d} \\) — средняя разность между значениями в парах,  \n",
        "- \\( s_d \\) — стандартное отклонение разностей,  \n",
        "- \\( n \\) — количество пар наблюдений.\n",
        "\n",
        "**Критерий:**  \n",
        "- Если |t| > t-критическое или p-value < α, отвергаем H₀.\n"
      ]
    },
    {
      "cell_type": "code",
      "execution_count": null,
      "id": "14596427-0d20-4ffe-8c38-e941fe204a9d",
      "metadata": {
        "colab": {
          "base_uri": "https://localhost:8080/"
        },
        "id": "14596427-0d20-4ffe-8c38-e941fe204a9d",
        "outputId": "e08325c9-1cd7-463a-cc71-68ffaea02063"
      },
      "outputs": [
        {
          "output_type": "stream",
          "name": "stdout",
          "text": [
            "t-статистика: 5.7130\n",
            "Критическое значение t: 2.2622\n",
            "P-value: 0.0003\n",
            "Нулевая гипотеза отвергнута: препарат оказывает влияние на уровень глюкозы.\n"
          ]
        }
      ],
      "source": [
        "# Данные\n",
        "before = [9.6, 8.1, 8.8, 7.9, 9.2, 8.0, 8.4, 10.1, 7.8, 8.1]\n",
        "after = [7.7, 6.2, 7.4, 7.5, 8.3, 6.2, 8.1, 8.9, 7.4, 7.0]\n",
        "\n",
        "# Импорт библиотек\n",
        "import numpy as np\n",
        "from scipy.stats import t\n",
        "\n",
        "# Вычисление разностей\n",
        "diff = np.array(before) - np.array(after)\n",
        "\n",
        "# Параметры выборки разностей\n",
        "mean_diff = np.mean(diff)\n",
        "std_diff = np.std(diff, ddof=1)\n",
        "n = len(diff)\n",
        "\n",
        "# Расчет t-статистики\n",
        "t_stat = mean_diff / (std_diff / np.sqrt(n))\n",
        "\n",
        "# Критическое значение и p-value\n",
        "alpha = 0.05\n",
        "t_crit = t.ppf(1 - alpha / 2, df=n - 1)\n",
        "p_value = 2 * (1 - t.cdf(abs(t_stat), df=n - 1))\n",
        "\n",
        "# Вывод результатов\n",
        "print(f\"t-статистика: {t_stat:.4f}\")\n",
        "print(f\"Критическое значение t: {t_crit:.4f}\")\n",
        "print(f\"P-value: {p_value:.4f}\")\n",
        "\n",
        "# Статистический вывод\n",
        "if abs(t_stat) > t_crit or p_value < alpha:\n",
        "    print(\"Нулевая гипотеза отвергнута: препарат оказывает влияние на уровень глюкозы.\")\n",
        "else:\n",
        "    print(\"Нулевая гипотеза не отвергнута: препарат не оказывает влияния на уровень глюкозы.\")\n"
      ]
    },
    {
      "cell_type": "markdown",
      "source": [
        "**Результаты расчета:**  \n",
        "- t-статистика: 5.7130  \n",
        "- Критическое значение t: 2.2622  \n",
        "- P-value: 0.0003  \n",
        "\n",
        "**Вывод:**  \n",
        "- Так как |t| > t-критическое (5.7130 > 2.2622) и P-value < 0.05 (0.0003 < 0.05), нулевая гипотеза H₀ отвергается.  \n",
        "- Это означает, что препарат оказывает статистически значимое влияние на уровень глюкозы в крови пациентов.  \n",
        "- Препарат можно считать эффективным.\n"
      ],
      "metadata": {
        "id": "xaObgPyUfOVm"
      },
      "id": "xaObgPyUfOVm"
    },
    {
      "cell_type": "markdown",
      "id": "31d98391-527f-40ec-9212-5765fcec7794",
      "metadata": {
        "id": "31d98391-527f-40ec-9212-5765fcec7794"
      },
      "source": [
        "## Задача 6. Проверка различий в прочности кабелей\n",
        "\n",
        "**Условие:**  \n",
        "Определить, есть ли разница в прочности новых и старых кабелей. Уровень значимости: 1%. Предполагается, что выборки имеют разные дисперсии.\n",
        "\n",
        "**Гипотезы:**  \n",
        "- H₀: μ₁ = μ₂ (нет разницы в прочности новых и старых кабелей)  \n",
        "- H₁: μ₁ ≠ μ₂ (есть разница в прочности новых и старых кабелей)\n",
        "\n",
        "**Данные:**  \n",
        "- Новый кабель: 92.7, 91.6, 94.7, 93.7, 96.5, 94.3, 93.7, 96.8, 98.9, 99.9  \n",
        "- Старый кабель: 90.1, 92.2, 94.3, 92.1, 93.4, 91.1, 93.2, 91.5  \n",
        "\n",
        "**Метод:**  \n",
        "Так как дисперсии предполагаются разными, используем t-тест для независимых выборок с учетом разных дисперсий (t-test Welch).  \n",
        "\n",
        "Формула t-статистики:  \n",
        "\\[\n",
        "t = \\frac{\\bar{X}_1 - \\bar{X}_2}{\\sqrt{\\frac{s_1^2}{n_1} + \\frac{s_2^2}{n_2}}}\n",
        "\\]\n",
        "\n",
        "**Критерий:**  \n",
        "- Если |t| > t-критическое или p-value < α, отвергаем H₀.\n"
      ]
    },
    {
      "cell_type": "code",
      "execution_count": null,
      "id": "0e3867b6-8f7a-499b-9c16-2708357091f1",
      "metadata": {
        "colab": {
          "base_uri": "https://localhost:8080/"
        },
        "id": "0e3867b6-8f7a-499b-9c16-2708357091f1",
        "outputId": "e52fd1a4-5361-4e12-85fc-0a41b803820c"
      },
      "outputs": [
        {
          "output_type": "stream",
          "name": "stdout",
          "text": [
            "t-статистика: 3.1204\n",
            "Критическое значение t: 2.9809\n",
            "P-value: 0.0076\n",
            "Нулевая гипотеза отвергнута: прочность кабелей различается.\n"
          ]
        }
      ],
      "source": [
        "from scipy.stats import ttest_ind\n",
        "\n",
        "# Данные\n",
        "new_cable = [92.7, 91.6, 94.7, 93.7, 96.5, 94.3, 93.7, 96.8, 98.9, 99.9]\n",
        "old_cable = [90.1, 92.2, 94.3, 92.1, 93.4, 91.1, 93.2, 91.5]\n",
        "\n",
        "# Уровень значимости\n",
        "alpha = 0.01\n",
        "\n",
        "# Выполнение t-теста с учетом разных дисперсий\n",
        "t_stat, p_value = ttest_ind(new_cable, old_cable, equal_var=False)\n",
        "\n",
        "# Критическое значение\n",
        "n1, n2 = len(new_cable), len(old_cable)\n",
        "df = ((np.var(new_cable, ddof=1)/n1 + np.var(old_cable, ddof=1)/n2)**2) / \\\n",
        "     ((np.var(new_cable, ddof=1)/n1)**2 / (n1 - 1) + (np.var(old_cable, ddof=1)/n2)**2 / (n2 - 1))\n",
        "t_crit = t.ppf(1 - alpha / 2, df=df)\n",
        "\n",
        "# Вывод результатов\n",
        "print(f\"t-статистика: {t_stat:.4f}\")\n",
        "print(f\"Критическое значение t: {t_crit:.4f}\")\n",
        "print(f\"P-value: {p_value:.4f}\")\n",
        "\n",
        "# Статистический вывод\n",
        "if abs(t_stat) > t_crit or p_value < alpha:\n",
        "    print(\"Нулевая гипотеза отвергнута: прочность кабелей различается.\")\n",
        "else:\n",
        "    print(\"Нулевая гипотеза не отвергнута: прочность кабелей не различается.\")\n"
      ]
    },
    {
      "cell_type": "markdown",
      "source": [
        "**Результаты расчета:**  \n",
        "- t-статистика: 3.1204  \n",
        "- Критическое значение t: 2.8208  \n",
        "- P-value: 0.0076  \n",
        "\n",
        "**Вывод:**  \n",
        "- Так как |t| > t-критическое (3.1204 > 2.8208) и P-value < 0.01 (0.0076 < 0.01), нулевая гипотеза H₀ отвергается.  \n",
        "- Это означает, что между прочностью новых и старых кабелей есть статистически значимые различия.  \n",
        "- Производителю рекомендуется заменить старые кабели на новые, так как они обладают большей прочностью.\n"
      ],
      "metadata": {
        "id": "Qixl-6PfftaT"
      },
      "id": "Qixl-6PfftaT"
    },
    {
      "cell_type": "markdown",
      "id": "c94b6ae2-c1fd-46b1-9dff-6c067dae6ac9",
      "metadata": {
        "id": "c94b6ae2-c1fd-46b1-9dff-6c067dae6ac9"
      },
      "source": [
        "## Задача 7. Влияние подготовительных курсов на подготовку абитуриентов\n",
        "\n",
        "**Условие:**  \n",
        "Проверить, оказывают ли подготовительные курсы влияние на результаты тестирования абитуриентов. Уровень значимости: 0.01.\n",
        "\n",
        "**Гипотезы:**  \n",
        "- H₀: μ_diff = 0 (разницы в результатах до и после курсов нет)  \n",
        "- H₁: μ_diff ≠ 0 (результаты до и после курсов отличаются)\n",
        "\n",
        "**Данные:**  \n",
        "- До курсов: 7, 6, 5, 4, 6, 2, 10, 3, 8, 5  \n",
        "- После курсов: 9, 6, 4, 5, 7, 4, 10, 6, 9, 6  \n",
        "\n",
        "**Метод:**  \n",
        "Так как выборки связаны, используем парный t-тест.  \n",
        "Формула для t-статистики:  \n",
        "\\[\n",
        "t = \\frac{\\bar{d}}{s_d / \\sqrt{n}}\n",
        "\\]\n",
        "где:  \n",
        "- \\( \\bar{d} \\) — средняя разность между значениями в парах,  \n",
        "- \\( s_d \\) — стандартное отклонение разностей,  \n",
        "- \\( n \\) — количество пар наблюдений.\n",
        "\n",
        "**Критерий:**  \n",
        "- Если |t| > t-критическое или p-value < α, отвергаем H₀.\n"
      ]
    },
    {
      "cell_type": "code",
      "execution_count": null,
      "id": "5226283c-a4f1-44f6-a80d-90a16b8f9796",
      "metadata": {
        "colab": {
          "base_uri": "https://localhost:8080/"
        },
        "id": "5226283c-a4f1-44f6-a80d-90a16b8f9796",
        "outputId": "cf0c5fbd-35dc-433d-a482-96cb7f0fe3a0"
      },
      "outputs": [
        {
          "output_type": "stream",
          "name": "stdout",
          "text": [
            "t-статистика: 2.7386\n",
            "Критическое значение t: 3.2498\n",
            "P-value: 0.0229\n",
            "Нулевая гипотеза не отвергнута: курсы не оказывают значимого влияния на подготовку.\n"
          ]
        }
      ],
      "source": [
        "# Данные\n",
        "before_courses = [7, 6, 5, 4, 6, 2, 10, 3, 8, 5]\n",
        "after_courses = [9, 6, 4, 5, 7, 4, 10, 6, 9, 6]\n",
        "\n",
        "# Импорт библиотек\n",
        "import numpy as np\n",
        "from scipy.stats import t\n",
        "\n",
        "# Вычисление разностей\n",
        "diff = np.array(after_courses) - np.array(before_courses)\n",
        "\n",
        "# Параметры выборки разностей\n",
        "mean_diff = np.mean(diff)\n",
        "std_diff = np.std(diff, ddof=1)\n",
        "n = len(diff)\n",
        "\n",
        "# Расчет t-статистики\n",
        "t_stat = mean_diff / (std_diff / np.sqrt(n))\n",
        "\n",
        "# Критическое значение и p-value\n",
        "alpha = 0.01\n",
        "t_crit = t.ppf(1 - alpha / 2, df=n - 1)\n",
        "p_value = 2 * (1 - t.cdf(abs(t_stat), df=n - 1))\n",
        "\n",
        "# Вывод результатов\n",
        "print(f\"t-статистика: {t_stat:.4f}\")\n",
        "print(f\"Критическое значение t: {t_crit:.4f}\")\n",
        "print(f\"P-value: {p_value:.4f}\")\n",
        "\n",
        "# Статистический вывод\n",
        "if abs(t_stat) > t_crit or p_value < alpha:\n",
        "    print(\"Нулевая гипотеза отвергнута: курсы оказывают влияние на подготовку.\")\n",
        "else:\n",
        "    print(\"Нулевая гипотеза не отвергнута: курсы не оказывают значимого влияния на подготовку.\")"
      ]
    },
    {
      "cell_type": "markdown",
      "source": [
        "**Результаты расчета:**  \n",
        "- t-статистика: 2.7386  \n",
        "- Критическое значение t: 3.2498  \n",
        "- P-value: 0.0229  \n",
        "\n",
        "**Вывод:**  \n",
        "- Так как |t| ≤ t-критическое (2.7386 ≤ 3.2498) и P-value > 0.01 (0.0229 > 0.01), нулевая гипотеза H₀ не отвергается.  \n",
        "- Это означает, что подготовительные курсы не оказывают статистически значимого влияния на подготовку абитуриентов.  \n"
      ],
      "metadata": {
        "id": "UhT1tNReiB1M"
      },
      "id": "UhT1tNReiB1M"
    },
    {
      "cell_type": "markdown",
      "id": "3457d32d-5ce3-4093-bf60-18cdc0d23a79",
      "metadata": {
        "id": "3457d32d-5ce3-4093-bf60-18cdc0d23a79"
      },
      "source": [
        "## Задача 8. Проверка гипотезы о равенстве дисперсий\n",
        "\n",
        "**Условие:**  \n",
        "Проверить гипотезу, что дисперсии IQ двух групп (питающихся апельсинами и грушами) одинаковы на уровне значимости 0.05.\n",
        "\n",
        "**Гипотезы:**  \n",
        "- H₀: \\( \\sigma_1^2 = \\sigma_2^2 \\) (дисперсии равны)  \n",
        "- H₁: \\( \\sigma_1^2 \\neq \\sigma_2^2 \\) (дисперсии не равны)\n",
        "\n",
        "**Данные:**  \n",
        "- Группа 1 (апельсины): 125, 138, 112, 130, 124, 125, 110, 112, 117, 126  \n",
        "- Группа 2 (груши): 124, 102, 142, 130, 131, 124, 127, 115, 108, 109  \n",
        "\n",
        "**Метод:**  \n",
        "Для проверки равенства дисперсий используем F-тест:  \n",
        "\\[\n",
        "F = \\frac{S_1^2}{S_2^2}\n",
        "\\]\n",
        "где \\( S_1^2 \\) — большая дисперсия выборки, \\( S_2^2 \\) — меньшая дисперсия выборки.\n",
        "\n",
        "**Критерий:**  \n",
        "- Если F > F-критическое (для уровня значимости 0.05), отвергаем H₀.\n"
      ]
    },
    {
      "cell_type": "code",
      "execution_count": null,
      "id": "a2fa0ca3-f86e-4ce4-9051-3d07abdceeb6",
      "metadata": {
        "colab": {
          "base_uri": "https://localhost:8080/"
        },
        "id": "a2fa0ca3-f86e-4ce4-9051-3d07abdceeb6",
        "outputId": "a3828f8a-e8ef-48e8-e529-38ebd8fabea5"
      },
      "outputs": [
        {
          "output_type": "stream",
          "name": "stdout",
          "text": [
            "F-статистика: 1.9062\n",
            "Критические значения F: (0.2484, 4.0260)\n",
            "Нулевая гипотеза не отвергнута: дисперсии равны.\n"
          ]
        }
      ],
      "source": [
        "from scipy.stats import f\n",
        "\n",
        "# Данные\n",
        "group1 = [125, 138, 112, 130, 124, 125, 110, 112, 117, 126]  # Апельсины\n",
        "group2 = [124, 102, 142, 130, 131, 124, 127, 115, 108, 109]  # Груши\n",
        "\n",
        "# Расчет дисперсий\n",
        "s1_squared = np.var(group1, ddof=1)\n",
        "s2_squared = np.var(group2, ddof=1)\n",
        "\n",
        "# Определение F-статистики (большая дисперсия делится на меньшую)\n",
        "F_stat = s1_squared / s2_squared if s1_squared > s2_squared else s2_squared / s1_squared\n",
        "\n",
        "# Критические значения F для двух сторон\n",
        "df1, df2 = len(group1) - 1, len(group2) - 1\n",
        "alpha = 0.05\n",
        "F_crit_lower = f.ppf(alpha / 2, df1, df2)\n",
        "F_crit_upper = f.ppf(1 - alpha / 2, df1, df2)\n",
        "\n",
        "# Вывод результатов\n",
        "print(f\"F-статистика: {F_stat:.4f}\")\n",
        "print(f\"Критические значения F: ({F_crit_lower:.4f}, {F_crit_upper:.4f})\")\n",
        "\n",
        "# Проверка гипотезы\n",
        "if F_stat < F_crit_lower or F_stat > F_crit_upper:\n",
        "    print(\"Нулевая гипотеза отвергнута: дисперсии не равны.\")\n",
        "else:\n",
        "    print(\"Нулевая гипотеза не отвергнута: дисперсии равны.\")\n"
      ]
    },
    {
      "cell_type": "markdown",
      "source": [
        "**Результаты расчета:**  \n",
        "- F-статистика: 1.9062  \n",
        "- Критические значения F: (0.2484, 4.0260)  \n",
        "\n",
        "**Вывод:**  \n",
        "- Так как F-статистика находится в пределах критических значений (0.2484 ≤ 1.9062 ≤ 4.0260), нулевая гипотеза H₀ не отвергается.  \n",
        "- Это означает, что дисперсии двух групп (питающихся апельсинами и грушами) статистически равны.  \n"
      ],
      "metadata": {
        "id": "9UdI1bGdinSM"
      },
      "id": "9UdI1bGdinSM"
    },
    {
      "cell_type": "markdown",
      "id": "7f6c4b09-ad80-4c83-82fb-472272cef69d",
      "metadata": {
        "id": "7f6c4b09-ad80-4c83-82fb-472272cef69d"
      },
      "source": [
        "## Задача 9. Проверка соответствия данных распределению\n",
        "\n",
        "**Условие:**  \n",
        "Необходимо предложить распределение, которое могло бы соответствовать данным, и проверить гипотезу на уровне доверия 0.95.\n",
        "\n",
        "**Гипотезы:**  \n",
        "- H₀: Данные соответствуют предполагаемому распределению.  \n",
        "- H₁: Данные не соответствуют предполагаемому распределению.\n",
        "\n",
        "**Данные:**  \n",
        "- Количество вылетов: 1, 2, 3, 4, 5, 6, 7, 8, 9.  \n",
        "- Количество самолетов: 36, 23, 11, 13, 8, 3, 2, 1, 3.  \n",
        "- Общее количество самолетов: 100.\n",
        "\n",
        "**Метод:**  \n",
        "Предположим, что данные следуют пуассоновскому распределению. Найдем параметр λ как среднее значение:  \n",
        "\\[\n",
        "\\lambda = \\frac{\\sum (x \\cdot f)}{\\text{Общее количество}}\n",
        "\\]  \n",
        "где \\( x \\) — количество вылетов, \\( f \\) — частота.\n",
        "\n",
        "Используем критерий χ² (хи-квадрат) для проверки соответствия:  \n",
        "\\[\n",
        "\\chi^2 = \\sum \\frac{(f_{\\text{набл}} - f_{\\text{ожид}})^2}{f_{\\text{ожид}}}\n",
        "\\]\n",
        "\n",
        "**Критерий:**  \n",
        "- Если χ² > χ²-критическое, отвергаем H₀.\n"
      ]
    },
    {
      "cell_type": "code",
      "execution_count": null,
      "id": "d6f044c5-bd38-45a4-a7b8-574bc448650d",
      "metadata": {
        "colab": {
          "base_uri": "https://localhost:8080/",
          "height": 1000
        },
        "id": "d6f044c5-bd38-45a4-a7b8-574bc448650d",
        "outputId": "5d1a590e-c09f-4886-bf27-90755fd1636c"
      },
      "outputs": [
        {
          "output_type": "stream",
          "name": "stdout",
          "text": [
            "Среднее число вылетов (λ): 2.7400\n",
            "Дисперсия числа вылетов: 3.9724\n",
            "\n",
            "MLE параметры негативного биномиального распределения: r = 1.1340, p = 0.3946\n",
            "\n",
            "Параметры распределений:\n",
            "Пуассон: λ = 2.7400\n",
            "Геометрическое: p = 0.3650\n",
            "Негативное биномиальное: r = 1.1340, p = 0.3946\n",
            "\n",
            "Результаты χ²-теста:\n",
            "\n",
            "Пуассоновское распределение:\n",
            "χ²-статистика: 26.5030\n",
            "Критическое значение χ² (df=4, α=0.05): 9.4877\n",
            "P-value: 0.0000\n",
            "Нулевая гипотеза отвергнута: данные не соответствуют пуассоновскому распределению.\n",
            "\n",
            "Геометрическое распределение:\n",
            "χ²-статистика: 3.1081\n",
            "Критическое значение χ² (df=4, α=0.05): 9.4877\n",
            "P-value: 0.5399\n",
            "Нулевая гипотеза не отвергнута: данные соответствуют геометрическому распределению.\n",
            "\n",
            "Негативное биномиальное распределение:\n",
            "χ²-статистика: 3.0338\n",
            "Критическое значение χ² (df=3, α=0.05): 7.8147\n",
            "P-value: 0.3864\n",
            "Нулевая гипотеза не отвергнута: данные соответствуют негативному биномиальному распределению.\n",
            "\n",
            "\n",
            "Сравнительная таблица результатов χ²-теста:\n",
            "\n",
            "          Распределение  χ²-статистика  Критическое χ²  P-value         Вывод\n",
            "                Пуассон      26.503016        9.487729 0.000025    Отвергнута\n",
            "         Геометрическое       3.108056        9.487729 0.539908 Не отвергнута\n",
            "Негативное биномиальное       3.033779        7.814728 0.386446 Не отвергнута\n",
            "\n",
            "Содержательный вывод:\n",
            "На основании χ²-теста данные соответствуют следующим распределениям: Геометрическое, Негативное биномиальное.\n"
          ]
        },
        {
          "output_type": "display_data",
          "data": {
            "text/plain": [
              "<Figure size 1000x600 with 1 Axes>"
            ],
            "image/png": "[encoded data removed]"
          },
          "metadata": {}
        }
      ],
      "source": [
        "import numpy as np\n",
        "from scipy.stats import poisson, nbinom, geom, chi2\n",
        "from scipy.optimize import minimize\n",
        "import pandas as pd\n",
        "\n",
        "# Данные\n",
        "flights = np.array([1, 2, 3, 4, 5, 6, 7, 8, 9])  # Вылеты\n",
        "observed = np.array([36, 23, 11, 13, 8, 3, 2, 1, 3])  # Наблюдаемая частота\n",
        "total = observed.sum()  # Общее количество самолетов\n",
        "alpha = 0.05  # Уровень значимости\n",
        "\n",
        "# 1. Анализ характеристик данных\n",
        "mean_flights = np.sum(flights * observed) / total\n",
        "variance_flights = np.sum(observed * (flights - mean_flights) ** 2) / total\n",
        "\n",
        "print(f\"Среднее число вылетов (λ): {mean_flights:.4f}\")\n",
        "print(f\"Дисперсия числа вылетов: {variance_flights:.4f}\\n\")\n",
        "\n",
        "# 2. Выбор кандидатов на распределение\n",
        "# Пуассон, Геометрическое, Негативное биномиальное\n",
        "\n",
        "# 3. Оценка параметров распределений\n",
        "\n",
        "# 3.1. Пуассоновское распределение\n",
        "lambda_poisson = mean_flights\n",
        "\n",
        "# 3.2. Геометрическое распределение\n",
        "p_geometric = 1 / mean_flights\n",
        "\n",
        "# 3.3. Негативное биномиальное распределение методом максимального правдоподобия\n",
        "def neg_log_likelihood(params, data):\n",
        "    r, p = params\n",
        "    if r <= 0 or p <= 0 or p >=1:\n",
        "        return np.inf\n",
        "    return -np.sum(nbinom.logpmf(data - 1, r, p))\n",
        "\n",
        "# Подготовка данных для MLE (повторение вылетов по их частоте)\n",
        "data_nbinom = np.repeat(flights, observed)\n",
        "\n",
        "# Начальные предположения\n",
        "initial_params = [1, 0.5]\n",
        "\n",
        "# Минимизация отрицательного логарифма правдоподобия\n",
        "result = minimize(neg_log_likelihood, initial_params, args=(data_nbinom,), bounds=[(1e-5, None), (1e-5, 1-1e-5)])\n",
        "if result.success:\n",
        "    r_mle, p_mle = result.x\n",
        "    print(f\"MLE параметры негативного биномиального распределения: r = {r_mle:.4f}, p = {p_mle:.4f}\\n\")\n",
        "else:\n",
        "    r_mle, p_mle = np.nan, np.nan\n",
        "    print(\"Оптимизация для негативного биномиального распределения не удалась.\\n\")\n",
        "\n",
        "print(f\"Параметры распределений:\")\n",
        "print(f\"Пуассон: λ = {lambda_poisson:.4f}\")\n",
        "print(f\"Геометрическое: p = {p_geometric:.4f}\")\n",
        "if not np.isnan(r_mle):\n",
        "    print(f\"Негативное биномиальное: r = {r_mle:.4f}, p = {p_mle:.4f}\\n\")\n",
        "else:\n",
        "    print(\"Негативное биномиальное распределение не подходит.\\n\")\n",
        "\n",
        "# 4. Вычисление ожидаемых частот для каждого распределения\n",
        "\n",
        "# 4.1. Пуассоновское распределение\n",
        "expected_poisson = poisson.pmf(flights, lambda_poisson) * total\n",
        "\n",
        "# 4.2. Геометрическое распределение\n",
        "expected_geometric = geom.pmf(flights, p_geometric) * total\n",
        "\n",
        "# 4.3. Негативное биномиальное распределение\n",
        "if not np.isnan(r_mle):\n",
        "    expected_nbinom = nbinom.pmf(flights - 1, r_mle, p_mle) * total\n",
        "else:\n",
        "    expected_nbinom = None\n",
        "\n",
        "# 5. Корректировка ожидаемых частот (объединение категорий с E < 5)\n",
        "def adjust_expected(observed, expected):\n",
        "    observed = observed.copy().tolist()\n",
        "    expected = expected.copy().tolist()\n",
        "\n",
        "    # Объединение с конца\n",
        "    while True:\n",
        "        low_indices = [i for i, e in enumerate(expected) if e < 5]\n",
        "        if not low_indices:\n",
        "            break\n",
        "        i = low_indices[-1]\n",
        "        if i == 0:\n",
        "            # Объединяем с правой категорией\n",
        "            observed[i+1] += observed[i]\n",
        "            expected[i+1] += expected[i]\n",
        "        else:\n",
        "            # Объединяем с левой категорией\n",
        "            observed[i-1] += observed[i]\n",
        "            expected[i-1] += expected[i]\n",
        "        # Удаляем текущую категорию\n",
        "        del observed[i]\n",
        "        del expected[i]\n",
        "    return np.array(observed), np.array(expected)\n",
        "\n",
        "# Корректировка\n",
        "observed_poisson, expected_poisson_adj = adjust_expected(observed, expected_poisson)\n",
        "observed_geometric, expected_geometric_adj = adjust_expected(observed, expected_geometric)\n",
        "if expected_nbinom is not None:\n",
        "    observed_nbinom, expected_nbinom_adj = adjust_expected(observed, expected_nbinom)\n",
        "else:\n",
        "    observed_nbinom, expected_nbinom_adj = None, None\n",
        "\n",
        "# 6. Проведение χ²-теста\n",
        "\n",
        "def calculate_chi2(observed, expected, df):\n",
        "    chi2_stat = np.sum((observed - expected) ** 2 / expected)\n",
        "    p_val = 1 - chi2.cdf(chi2_stat, df)\n",
        "    return chi2_stat, p_val\n",
        "\n",
        "# Пуассон\n",
        "df_poisson = len(observed_poisson) - 1 - 1\n",
        "chi2_poisson, p_poisson = calculate_chi2(observed_poisson, expected_poisson_adj, df_poisson)\n",
        "\n",
        "# Геометрическое\n",
        "df_geometric = len(observed_geometric) - 1 - 1\n",
        "chi2_geometric, p_geometric_test = calculate_chi2(observed_geometric, expected_geometric_adj, df_geometric)\n",
        "\n",
        "# Негативное биномиальное\n",
        "if expected_nbinom is not None:\n",
        "    df_nbinom = len(observed_nbinom) - 1 - 2\n",
        "    chi2_nbinom, p_nbinom_test = calculate_chi2(observed_nbinom, expected_nbinom_adj, df_nbinom)\n",
        "else:\n",
        "    chi2_nbinom, p_nbinom_test = np.nan, np.nan\n",
        "\n",
        "# 7. Вывод результатов\n",
        "\n",
        "print(\"Результаты χ²-теста:\\n\")\n",
        "\n",
        "print(\"Пуассоновское распределение:\")\n",
        "print(f\"χ²-статистика: {chi2_poisson:.4f}\")\n",
        "print(f\"Критическое значение χ² (df={df_poisson}, α=0.05): {chi2.ppf(1 - alpha, df_poisson):.4f}\")\n",
        "print(f\"P-value: {p_poisson:.4f}\")\n",
        "if chi2_poisson > chi2.ppf(1 - alpha, df_poisson):\n",
        "    print(\"Нулевая гипотеза отвергнута: данные не соответствуют пуассоновскому распределению.\\n\")\n",
        "else:\n",
        "    print(\"Нулевая гипотеза не отвергнута: данные соответствуют пуассоновскому распределению.\\n\")\n",
        "\n",
        "print(\"Геометрическое распределение:\")\n",
        "print(f\"χ²-статистика: {chi2_geometric:.4f}\")\n",
        "print(f\"Критическое значение χ² (df={df_geometric}, α=0.05): {chi2.ppf(1 - alpha, df_geometric):.4f}\")\n",
        "print(f\"P-value: {p_geometric_test:.4f}\")\n",
        "if chi2_geometric > chi2.ppf(1 - alpha, df_geometric):\n",
        "    print(\"Нулевая гипотеза отвергнута: данные не соответствуют геометрическому распределению.\\n\")\n",
        "else:\n",
        "    print(\"Нулевая гипотеза не отвергнута: данные соответствуют геометрическому распределению.\\n\")\n",
        "\n",
        "if chi2_nbinom is not None:\n",
        "    print(\"Негативное биномиальное распределение:\")\n",
        "    print(f\"χ²-статистика: {chi2_nbinom:.4f}\")\n",
        "    print(f\"Критическое значение χ² (df={df_nbinom}, α=0.05): {chi2.ppf(1 - alpha, df_nbinom):.4f}\")\n",
        "    print(f\"P-value: {p_nbinom_test:.4f}\")\n",
        "    if chi2_nbinom > chi2.ppf(1 - alpha, df_nbinom):\n",
        "        print(\"Нулевая гипотеза отвергнута: данные не соответствуют негативному биномиальному распределению.\\n\")\n",
        "    else:\n",
        "        print(\"Нулевая гипотеза не отвергнута: данные соответствуют негативному биномиальному распределению.\\n\")\n",
        "else:\n",
        "    print(\"Негативное биномиальное распределение не было проверено.\\n\")\n",
        "\n",
        "# Создание таблицы результатов\n",
        "results = {\n",
        "    \"Распределение\": [\"Пуассон\", \"Геометрическое\", \"Негативное биномиальное\"],\n",
        "    \"χ²-статистика\": [chi2_poisson, chi2_geometric, chi2_nbinom],\n",
        "    \"Критическое χ²\": [chi2.ppf(1 - alpha, df_poisson), chi2.ppf(1 - alpha, df_geometric), chi2.ppf(1 - alpha, df_nbinom) if not np.isnan(chi2_nbinom) else np.nan],\n",
        "    \"P-value\": [p_poisson, p_geometric_test, p_nbinom_test],\n",
        "    \"Вывод\": [\n",
        "        \"Отвергнута\" if chi2_poisson > chi2.ppf(1 - alpha, df_poisson) else \"Не отвергнута\",\n",
        "        \"Отвергнута\" if chi2_geometric > chi2.ppf(1 - alpha, df_geometric) else \"Не отвергнута\",\n",
        "        \"Отвергнута\" if not np.isnan(chi2_nbinom) and chi2_nbinom > chi2.ppf(1 - alpha, df_nbinom) else (\"Не отвергнута\" if not np.isnan(chi2_nbinom) else \"Не проверено\")\n",
        "    ]\n",
        "}\n",
        "\n",
        "df_results = pd.DataFrame(results)\n",
        "print(\"\\nСравнительная таблица результатов χ²-теста:\\n\")\n",
        "print(df_results.to_string(index=False))\n",
        "\n",
        "# 8. Содержательный вывод\n",
        "\n",
        "print(\"\\nСодержательный вывод:\")\n",
        "accepted_distributions = df_results[df_results[\"Вывод\"] == \"Не отвергнута\"][\"Распределение\"].tolist()\n",
        "if accepted_distributions:\n",
        "    print(f\"На основании χ²-теста данные соответствуют следующим распределениям: {', '.join(accepted_distributions)}.\")\n",
        "else:\n",
        "    print(\"На основании χ²-теста данные не соответствуют ни одному из проверенных распределений.\")\n",
        "\n",
        "import matplotlib.pyplot as plt\n",
        "\n",
        "plt.figure(figsize=(10,6))\n",
        "plt.bar(flights, observed, width=0.4, label='Наблюдаемые', align='center', alpha=0.6, color='skyblue')\n",
        "\n",
        "if not np.isnan(expected_poisson).any():\n",
        "    plt.bar(flights + 0.2, expected_poisson, width=0.4, label='Пуассон', align='center', alpha=0.6, color='orange')\n",
        "if not np.isnan(expected_geometric).any():\n",
        "    plt.bar(flights + 0.4, expected_geometric, width=0.4, label='Геометрическое', align='center', alpha=0.6, color='green')\n",
        "if expected_nbinom is not None and not np.isnan(expected_nbinom).any():\n",
        "    plt.bar(flights + 0.6, expected_nbinom, width=0.4, label='Нег. биномиальное', align='center', alpha=0.6, color='red')\n",
        "\n",
        "plt.xlabel('Количество вылетов')\n",
        "plt.ylabel('Частота')\n",
        "plt.title('Сравнение наблюдаемых и ожидаемых частот по распределениям')\n",
        "plt.legend()\n",
        "plt.xticks(flights)\n",
        "plt.show()\n"
      ]
    },
    {
      "cell_type": "markdown",
      "source": [
        "# Анализ Соответствия Распределений Данным о Вылетах Самолетов\n",
        "\n",
        "В данном анализе исследуется, какое статистическое распределение наиболее адекватно описывает данные о количестве вылетов 100 самолетов для поиска потерявшегося в море корабля. Для этого проведено сравнение трех распределений:\n",
        "\n",
        "1. **Пуассоновское распределение**\n",
        "2. **Геометрическое распределение**\n",
        "3. **Негативное биномиальное распределение**\n",
        "\n",
        "Для каждого распределения рассчитаны ожидаемые частоты, проведён **χ²-тест** на соответствие данных распределению, и сделаны соответствующие выводы.\n",
        "\n",
        "## Исходные Данные\n",
        "\n",
        "| Количество вылетов (x) | Наблюдаемая частота (O) |\n",
        "|-----------------------|-------------------------|\n",
        "| 1                     | 36                      |\n",
        "| 2                     | 23                      |\n",
        "| 3                     | 11                      |\n",
        "| 4                     | 13                      |\n",
        "| 5                     | 8                       |\n",
        "| 6                     | 3                       |\n",
        "| 7                     | 2                       |\n",
        "| 8                     | 1                       |\n",
        "| 9                     | 3                       |\n",
        "\n",
        "- **Общее количество самолетов (N):** 100\n",
        "\n",
        "### Расчёт Среднего и Дисперсии\n",
        "\n",
        "\\[\n",
        "\\text{Среднее (λ)} = \\frac{\\sum (x_i \\cdot O_i)}{N} = \\frac{1 \\cdot 36 + 2 \\cdot 23 + 3 \\cdot 11 + \\ldots + 9 \\cdot 3}{100} = 2.7400\n",
        "\\]\n",
        "\n",
        "\\[\n",
        "\\text{Дисперсия} = \\frac{\\sum (O_i \\cdot (x_i - \\lambda)^2)}{N} = 3.9724\n",
        "\\]\n",
        "\n",
        "## Оценка Параметров Распределений\n",
        "\n",
        "### 1. Пуассоновское Распределение\n",
        "\n",
        "- **Параметр λ:** 2.7400\n",
        "\n",
        "### 2. Геометрическое Распределение\n",
        "\n",
        "- **Параметр p:** \\( p = \\frac{1}{\\lambda} = \\frac{1}{2.7400} \\approx 0.3650 \\)\n",
        "\n",
        "### 3. Негативное Биномиальное Распределение\n",
        "\n",
        "- **Оценка параметров методом максимального правдоподобия (MLE):**\n",
        "  - **r:** 1.1340\n",
        "  - **p:** 0.3946"
      ],
      "metadata": {
        "id": "WigUWDpsjHZT"
      },
      "id": "WigUWDpsjHZT"
    },
    {
      "cell_type": "markdown",
      "id": "683c7734-8ec4-47f3-a4f9-97a18d46ad53",
      "metadata": {
        "id": "683c7734-8ec4-47f3-a4f9-97a18d46ad53"
      },
      "source": [
        "## Задача 10. Проверка связи между цветом глаз и цветом волос\n",
        "\n",
        "**Условие:**  \n",
        "Определить, существует ли связь между цветом глаз и цветом волос на уровне доверия 0.95.\n",
        "\n",
        "**Гипотезы:**  \n",
        "- H₀: Цвет глаз и цвет волос независимы.  \n",
        "- H₁: Цвет глаз и цвет волос связаны.\n",
        "\n",
        "**Данные:**  \n",
        "- Таблица наблюдений:\n",
        "\n",
        "| Цвет волос | Голубые | Карие | Зеленые | Всего |\n",
        "|------------|---------|-------|---------|-------|\n",
        "| Светлые    | 35      | 28    | 7       | 70    |\n",
        "| Темные     | 52      | 42    | 10      | 104   |\n",
        "| Рыжие      | 13      | 10    | 3       | 26    |\n",
        "| Всего      | 100     | 80    | 20      | 200   |\n",
        "\n",
        "**Метод:**  \n",
        "Для проверки связи используем критерий χ² (хи-квадрат) для таблиц сопряженности.  \n",
        "Формула статистики:  \n",
        "\\[\n",
        "\\chi^2 = \\sum \\frac{(f_{\\text{набл}} - f_{\\text{ожид}})^2}{f_{\\text{ожид}}}\n",
        "\\]\n",
        "где \\( f_{\\text{набл}} \\) — наблюдаемая частота, \\( f_{\\text{ожид}} \\) — ожидаемая частота.  \n",
        "\n",
        "Ожидаемая частота рассчитывается как:  \n",
        "\\[\n",
        "f_{\\text{ожид}} = \\frac{\\text{Сумма строки} \\times \\text{Сумма столбца}}{\\text{Общая сумма}}\n",
        "\\]\n",
        "\n",
        "**Критерий:**  \n",
        "- Если χ² > χ²-критическое, отвергаем H₀.\n"
      ]
    },
    {
      "cell_type": "code",
      "execution_count": null,
      "id": "9b332ef6-d1f6-4f3a-8a67-59a2f50f149d",
      "metadata": {
        "colab": {
          "base_uri": "https://localhost:8080/"
        },
        "id": "9b332ef6-d1f6-4f3a-8a67-59a2f50f149d",
        "outputId": "8e9cc5eb-15e8-45f4-feb7-564f622468b2"
      },
      "outputs": [
        {
          "output_type": "stream",
          "name": "stdout",
          "text": [
            "χ²-статистика: 0.0962\n",
            "Критическое значение χ²: 9.4877\n",
            "P-value: 0.9989\n",
            "Степени свободы: 4\n",
            "Нулевая гипотеза не отвергнута: связи между цветом глаз и цветом волос нет.\n"
          ]
        }
      ],
      "source": [
        "from scipy.stats import chi2_contingency\n",
        "\n",
        "# Данные\n",
        "observed = [\n",
        "    [35, 28, 7],   # Светлые\n",
        "    [52, 42, 10],  # Темные\n",
        "    [13, 10, 3]    # Рыжие\n",
        "]\n",
        "\n",
        "# Применение критерия χ²\n",
        "chi2_stat, p_value, dof, expected = chi2_contingency(observed)\n",
        "\n",
        "# Критическое значение χ²\n",
        "alpha = 0.05\n",
        "chi2_crit = chi2.ppf(1 - alpha, dof)\n",
        "\n",
        "# Вывод результатов\n",
        "print(f\"χ²-статистика: {chi2_stat:.4f}\")\n",
        "print(f\"Критическое значение χ²: {chi2_crit:.4f}\")\n",
        "print(f\"P-value: {p_value:.4f}\")\n",
        "print(f\"Степени свободы: {dof}\")\n",
        "\n",
        "# Проверка гипотезы\n",
        "if chi2_stat > chi2_crit:\n",
        "    print(\"Нулевая гипотеза отвергнута: связь между цветом глаз и цветом волос существует.\")\n",
        "else:\n",
        "    print(\"Нулевая гипотеза не отвергнута: связи между цветом глаз и цветом волос нет.\")\n"
      ]
    },
    {
      "cell_type": "markdown",
      "source": [
        "**Результаты расчета:**  \n",
        "- χ²-статистика: 0.0962  \n",
        "- Критическое значение χ²: 9.4877  \n",
        "- P-value: 0.9989  \n",
        "- Степени свободы: 4  \n",
        "\n",
        "**Вывод:**  \n",
        "- Так как χ²-статистика ≤ χ²-критическое (0.0962 ≤ 9.4877) и P-value > 0.05 (0.9989 > 0.05), нулевая гипотеза H₀ не отвергается.  \n",
        "- Это означает, что связи между цветом глаз и цветом волос нет на уровне значимости 0.05.\n"
      ],
      "metadata": {
        "id": "p7HWDaf0j7e-"
      },
      "id": "p7HWDaf0j7e-"
    },
    {
      "cell_type": "markdown",
      "id": "181ab8f2-c071-4803-ad2e-3f10813f0c6a",
      "metadata": {
        "id": "181ab8f2-c071-4803-ad2e-3f10813f0c6a"
      },
      "source": [
        "## Задача 11. Влияние типа корма на массу тигров\n",
        "\n",
        "**Условие:**  \n",
        "Определить, влияет ли тип корма на среднюю массу тигров на уровне значимости 0.05. Если нулевая гипотеза отвергается, провести тест Тьюки для уточнения, в каких группах имеются различия.\n",
        "\n",
        "**Гипотезы:**  \n",
        "- H₀: Средние массы тигров в группах, питающихся разным кормом, одинаковы.  \n",
        "- H₁: Средние массы тигров хотя бы в одной группе отличаются.\n",
        "\n",
        "**Данные:**  \n",
        "- Группы по типу корма:\n",
        "  - №1: [151, 135, 137, 118, 132, 135, 131, 121, 137, 140, 152, 133, 151, 132]  \n",
        "  - №2: [108, 123, 145, 103, 110, 124, 116, 108, 104, 130, 106, 105, 114, 108]  \n",
        "  - №3: [140, 152, 149, 132, 124, 146, 156, 137, 124, 145, 147, 139, 157, 139]  \n",
        "  - №4: [127, 135, 110, 116, 119, 123, 102, 121, 118, 120, 114, 134, 121, 109]  \n",
        "\n",
        "**Метод:**  \n",
        "1. Для проверки равенства средних используем однофакторный дисперсионный анализ (ANOVA).  \n",
        "   Формула F-статистики:\n",
        "   \\[\n",
        "   F = \\frac{\\text{Межгрупповая сумма квадратов (SSB) / df}_{меж}}{\\text{Внутригрупповая сумма квадратов (SSW) / df}_{внутр}}\n",
        "   \\]\n",
        "2. Если нулевая гипотеза отвергается, проводится тест Тьюки для анализа парных различий между группами.\n",
        "\n",
        "**Критерий:**  \n",
        "- Если P-value < 0.05, нулевая гипотеза отвергается, что указывает на наличие различий.\n"
      ]
    },
    {
      "cell_type": "code",
      "execution_count": null,
      "id": "da071797-ff7a-4b0c-8553-0df933687fe4",
      "metadata": {
        "colab": {
          "base_uri": "https://localhost:8080/"
        },
        "id": "da071797-ff7a-4b0c-8553-0df933687fe4",
        "outputId": "5968d473-0a65-4230-c212-63ce40e9e067"
      },
      "outputs": [
        {
          "output_type": "stream",
          "name": "stdout",
          "text": [
            "F-статистика: 21.9278\n",
            "P-value: 0.0000\n",
            "   Multiple Comparison of Means - Tukey HSD, FWER=0.05    \n",
            "==========================================================\n",
            " group1   group2  meandiff p-adj   lower    upper   reject\n",
            "----------------------------------------------------------\n",
            "Группа 1 Группа 2    -21.5    0.0  -32.019  -10.981   True\n",
            "Группа 1 Группа 3   5.8571  0.458  -4.6619  16.3762  False\n",
            "Группа 1 Группа 4 -16.8571 0.0005 -27.3762  -6.3381   True\n",
            "Группа 2 Группа 3  27.3571    0.0  16.8381  37.8762   True\n",
            "Группа 2 Группа 4   4.6429 0.6473  -5.8762  15.1619  False\n",
            "Группа 3 Группа 4 -22.7143    0.0 -33.2333 -12.1953   True\n",
            "----------------------------------------------------------\n"
          ]
        }
      ],
      "source": [
        "import numpy as np\n",
        "from scipy.stats import f_oneway\n",
        "from statsmodels.stats.multicomp import pairwise_tukeyhsd\n",
        "\n",
        "# Данные\n",
        "group1 = [151, 135, 137, 118, 132, 135, 131, 121, 137, 140, 152, 133, 151, 132]\n",
        "group2 = [108, 123, 145, 103, 110, 124, 116, 108, 104, 130, 106, 105, 114, 108]\n",
        "group3 = [140, 152, 149, 132, 124, 146, 156, 137, 124, 145, 147, 139, 157, 139]\n",
        "group4 = [127, 135, 110, 116, 119, 123, 102, 121, 118, 120, 114, 134, 121, 109]\n",
        "\n",
        "# ANOVA\n",
        "f_stat, p_value = f_oneway(group1, group2, group3, group4)\n",
        "\n",
        "# Вывод результатов ANOVA\n",
        "print(f\"F-статистика: {f_stat:.4f}\")\n",
        "print(f\"P-value: {p_value:.4f}\")\n",
        "\n",
        "# Тест Тьюки, если ANOVA показывает значимые различия\n",
        "if p_value < 0.05:\n",
        "    all_data = group1 + group2 + group3 + group4\n",
        "    groups = (['Группа 1'] * len(group1) +\n",
        "              ['Группа 2'] * len(group2) +\n",
        "              ['Группа 3'] * len(group3) +\n",
        "              ['Группа 4'] * len(group4))\n",
        "    tukey_result = pairwise_tukeyhsd(all_data, groups, alpha=0.05)\n",
        "    print(tukey_result)\n"
      ]
    },
    {
      "cell_type": "markdown",
      "source": [
        "**Результаты ANOVA:**  \n",
        "- F-статистика: 21.9278  \n",
        "- P-value: 0.0000  \n",
        "\n",
        "**Вывод по ANOVA:**  \n",
        "- Так как P-value < 0.05, нулевая гипотеза H₀ отвергается. Это означает, что тип корма влияет на среднюю массу тигров.  \n",
        "\n",
        "**Результаты теста Тьюки:**  \n",
        "- Различия между группами, где они статистически значимы:  \n",
        "  - Группа 1 и Группа 2: средняя разница -21.5, различие значимо (p-adj = 0.0).  \n",
        "  - Группа 1 и Группа 4: средняя разница -16.8571, различие значимо (p-adj = 0.0005).  \n",
        "  - Группа 2 и Группа 3: средняя разница 27.3571, различие значимо (p-adj = 0.0).  \n",
        "  - Группа 3 и Группа 4: средняя разница -22.7143, различие значимо (p-adj = 0.0).  \n",
        "\n",
        "**Заключение:**  \n",
        "- Тип корма влияет на среднюю массу тигров.  \n",
        "- Наиболее значимые различия наблюдаются между следующими группами:\n",
        "  - Группа 1 и Группа 2,\n",
        "  - Группа 1 и Группа 4,\n",
        "  - Группа 2 и Группа 3,\n",
        "  - Группа 3 и Группа 4.  \n",
        "- Различий между Группой 1 и Группой 3, а также между Группой 2 и Группой 4 не выявлено.\n"
      ],
      "metadata": {
        "id": "bSmPC7TDkYrp"
      },
      "id": "bSmPC7TDkYrp"
    },
    {
      "cell_type": "markdown",
      "id": "2e2b26c8-37a6-41dc-82c5-20e35e44aee0",
      "metadata": {
        "id": "2e2b26c8-37a6-41dc-82c5-20e35e44aee0"
      },
      "source": [
        "## Задача 12. Влияние размножения и возраста на массу тела у землянных белок\n",
        "\n",
        "**Условие:**  \n",
        "Определить влияние двух факторов (наличие выводка и возраст) на массу тела африканских землянных белок на уровне значимости 0.05, используя дисперсионный анализ с последовательными суммами квадратов.\n",
        "\n",
        "**Факторы:**  \n",
        "1. Наличие выводка (2 уровня: без выводка, с выводком).  \n",
        "2. Возраст (3 уровня: 1 год, 2 года, 3 и более лет).  \n",
        "\n",
        "**Метод:**  \n",
        "Применим двухфакторный дисперсионный анализ (ANOVA) с расчетом следующих компонент:  \n",
        "- Влияние каждого фактора (наличие выводка, возраст).  \n",
        "- Влияние взаимодействия факторов.  \n",
        "\n",
        "**Гипотезы:**  \n",
        "- H₀: Средние значения массы тела не зависят от факторов и их взаимодействия.  \n",
        "- H₁: Средние значения массы тела зависят от хотя бы одного из факторов или их взаимодействия.\n",
        "\n",
        "**Критерий:**  \n",
        "Если P-value < 0.05 для любого из факторов или их взаимодействия, отвергаем H₀.\n"
      ]
    },
    {
      "cell_type": "code",
      "execution_count": null,
      "id": "f86f1f46-31d1-4529-a3b7-a196dc2a3048",
      "metadata": {
        "colab": {
          "base_uri": "https://localhost:8080/"
        },
        "id": "f86f1f46-31d1-4529-a3b7-a196dc2a3048",
        "outputId": "3ea1fe6d-9af4-445d-fbad-1abf30d2f646"
      },
      "outputs": [
        {
          "output_type": "stream",
          "name": "stdout",
          "text": [
            "                          sum_sq    df          F        PR(>F)\n",
            "C(Выводок)              202705.2   1.0   7.078626  1.368668e-02\n",
            "C(Возраст)             2427075.8   2.0  42.377707  1.333903e-08\n",
            "C(Выводок):C(Возраст)    50688.2   2.0   0.885036  4.257428e-01\n",
            "Residual                687269.6  24.0        NaN           NaN\n"
          ]
        }
      ],
      "source": [
        "import pandas as pd\n",
        "from statsmodels.formula.api import ols\n",
        "from statsmodels.stats.anova import anova_lm\n",
        "\n",
        "# Данные\n",
        "data = {\n",
        "    \"Масса\": [\n",
        "        440, 438, 429, 502, 602,  # Без выводка, 1 год\n",
        "        892, 868, 855, 866, 932,  # Без выводка, 2 года\n",
        "        1575, 849, 759, 1602, 1327,  # Без выводка, 3 и более лет\n",
        "        308, 328, 326, 326, 325,  # С выводком, 1 год\n",
        "        737, 798, 876, 810, 861,  # С выводком, 2 года\n",
        "        1001, 901, 958, 1032, 883  # С выводком, 3 и более лет\n",
        "    ],\n",
        "    \"Выводок\": [\"Без выводка\"] * 15 + [\"С выводком\"] * 15,\n",
        "    \"Возраст\": ([\"1 год\"] * 5 + [\"2 года\"] * 5 + [\"3 и более лет\"] * 5) * 2\n",
        "}\n",
        "\n",
        "# Преобразование в DataFrame\n",
        "df = pd.DataFrame(data)\n",
        "\n",
        "# Модель ANOVA\n",
        "model = ols(\"Масса ~ C(Выводок) + C(Возраст) + C(Выводок):C(Возраст)\", data=df).fit()\n",
        "anova_results = anova_lm(model, typ=2)\n",
        "\n",
        "# Вывод результатов\n",
        "print(anova_results)\n"
      ]
    },
    {
      "cell_type": "markdown",
      "source": [
        "**Результаты ANOVA:**  \n",
        "\n",
        "| Фактор                  | Сумма квадратов (sum_sq) | Степени свободы (df) | F-статистика (F) | P-value (PR(>F)) |\n",
        "|-------------------------|--------------------------|-----------------------|-------------------|------------------|\n",
        "| Наличие выводка         | 202705.2                | 1                     | 7.0786            | 0.0137           |\n",
        "| Возраст                 | 2427075.8               | 2                     | 42.3777           | 0.0000           |\n",
        "| Взаимодействие факторов | 50688.2                 | 2                     | 0.8850            | 0.4257           |\n",
        "| Остаток (Residual)      | 687269.6                | 24                    | NaN               | NaN              |\n",
        "\n",
        "**Вывод:**  \n",
        "- P-value для фактора \"Наличие выводка\" равно 0.0137, что меньше 0.05. Это означает, что наличие выводка оказывает статистически значимое влияние на массу тела.  \n",
        "- P-value для фактора \"Возраст\" равно 0.0000, что также меньше 0.05. Это указывает на то, что возраст оказывает статистически значимое влияние на массу тела.  \n",
        "- P-value для взаимодействия факторов равно 0.4257, что больше 0.05. Это означает, что взаимодействие между возрастом и наличием выводка не оказывает значимого влияния.  \n",
        "\n",
        "**Заключение:**  \n",
        "- Наличие выводка и возраст влияют на массу тела африканских землянных белок.  \n",
        "- Взаимодействие между факторами не оказывает значимого влияния.  \n"
      ],
      "metadata": {
        "id": "IsObiK7Fk0ma"
      },
      "id": "IsObiK7Fk0ma"
    }
  ],
  "metadata": {
    "kernelspec": {
      "display_name": "Python 3 (ipykernel)",
      "language": "python",
      "name": "python3"
    },
    "language_info": {
      "codemirror_mode": {
        "name": "ipython",
        "version": 3
      },
      "file_extension": ".py",
      "mimetype": "text/x-python",
      "name": "python",
      "nbconvert_exporter": "python",
      "pygments_lexer": "ipython3",
      "version": "3.12.4"
    },
    "colab": {
      "provenance": []
    }
  },
  "nbformat": 4,
  "nbformat_minor": 5
}